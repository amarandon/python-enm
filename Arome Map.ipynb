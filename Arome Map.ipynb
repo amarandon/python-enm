{
 "cells": [
  {
   "cell_type": "code",
   "execution_count": null,
   "metadata": {
    "collapsed": false
   },
   "outputs": [],
   "source": [
    "import sys\n",
    "sys.path.append(\"/usr/local/eccodes/lib64/python2.7/site-packages\")\n",
    "\n",
    "# Import de la bibliothèque du centre européen\n",
    "import eccodes as ec\n",
    "\n",
    "# Import de la bibliothèque Python de manipulation de données numérique à haute performance\n",
    "import numpy as np\n",
    "\n",
    "# Import de la bibliothèque Python de référence pour visualiser des données numériques\n",
    "import matplotlib.pyplot as plt"
   ]
  },
  {
   "cell_type": "code",
   "execution_count": null,
   "metadata": {
    "collapsed": true
   },
   "outputs": [],
   "source": [
    "# Ouverture d'un fichier grib\n",
    "fp = open(\"AROME_0.01_SP1_12H_201801101200.grib2\")"
   ]
  },
  {
   "cell_type": "code",
   "execution_count": null,
   "metadata": {
    "collapsed": false
   },
   "outputs": [],
   "source": [
    "%matplotlib inline\n",
    "\n",
    "# On s'assure d'être au début du fichier\n",
    "fp.seek(0)\n",
    "\n",
    "# Recherche du champ de température\n",
    "while True:\n",
    "    grib_id = ec.codes_grib_new_from_file(fp)\n",
    "    short_name = ec.codes_get(grib_id, 'shortName')\n",
    "    if short_name == '2t':\n",
    "        break\n",
    "        \n",
    "# Calcul des latitudes de la grille\n",
    "miny = round(ec.codes_get(grib_id, 'latitudeOfFirstGridPointInDegrees'), 2)\n",
    "maxy = round(ec.codes_get(grib_id, 'latitudeOfLastGridPointInDegrees'), 2)\n",
    "numy = ec.codes_get(grib_id, 'Nj')\n",
    "latitudes = np.linspace(miny, maxy, numy)\n",
    "\n",
    "# Calcul des longitudes de la grille\n",
    "minx = round(ec.codes_get(grib_id, 'longitudeOfFirstGridPointInDegrees'), 2) - 360\n",
    "maxx = round(ec.codes_get(grib_id, 'longitudeOfLastGridPointInDegrees'), 2)\n",
    "numx = ec.codes_get(grib_id, 'Ni')\n",
    "longitudes = np.linspace(minx, maxx, numx)\n",
    "\n",
    "# Transformation en tableau à deux dimensions\n",
    "values = ec.codes_get_values(grib_id)\n",
    "values = np.ma.array(values, mask=values==9999)\n",
    "values = np.reshape(values, (len(latitudes), len(longitudes)))\n",
    "\n",
    "# Tracé\n",
    "plt.figure(figsize=(18,10))    \n",
    "plt.contourf(longitudes, latitudes, values, 20)\n",
    "plt.colorbar()\n",
    "plt.show();"
   ]
  },
  {
   "cell_type": "code",
   "execution_count": null,
   "metadata": {
    "collapsed": true
   },
   "outputs": [],
   "source": []
  }
 ],
 "metadata": {
  "kernelspec": {
   "display_name": "Python [Root]",
   "language": "python",
   "name": "Python [Root]"
  },
  "language_info": {
   "codemirror_mode": {
    "name": "ipython",
    "version": 2
   },
   "file_extension": ".py",
   "mimetype": "text/x-python",
   "name": "python",
   "nbconvert_exporter": "python",
   "pygments_lexer": "ipython2",
   "version": "2.7.12"
  }
 },
 "nbformat": 4,
 "nbformat_minor": 2
}
